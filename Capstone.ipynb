{
  "nbformat": 4,
  "nbformat_minor": 0,
  "metadata": {
    "colab": {
      "name": "Capstone ",
      "provenance": [],
      "collapsed_sections": [],
      "authorship_tag": "ABX9TyPOq/UHxfUw4atHWmQG2B/P",
      "include_colab_link": true
    },
    "kernelspec": {
      "name": "python3",
      "display_name": "Python 3"
    },
    "accelerator": "GPU"
  },
  "cells": [
    {
      "cell_type": "markdown",
      "metadata": {
        "id": "view-in-github",
        "colab_type": "text"
      },
      "source": [
        "<a href=\"https://colab.research.google.com/github/alerlemos/Coursera_Capstone/blob/master/Capstone.ipynb\" target=\"_parent\"><img src=\"https://colab.research.google.com/assets/colab-badge.svg\" alt=\"Open In Colab\"/></a>"
      ]
    },
    {
      "cell_type": "markdown",
      "metadata": {
        "id": "ctNWkbIEr6UR",
        "colab_type": "text"
      },
      "source": [
        "# Applied Data Science Capstone\n",
        "## IBM Data Science Professional Certificate \n",
        "\n",
        "### Author: Alexandre Rosseto Lemos"
      ]
    },
    {
      "cell_type": "markdown",
      "metadata": {
        "id": "NhrOqsk5ofFJ",
        "colab_type": "text"
      },
      "source": [
        "## Introduction\n",
        "Car accidents are always a big problem in any major city. Being places with lots of traffic, they tend to have a great number of car crashes troughtout the year. \n",
        "This means a lot of money spent in government property being destroyed, people getting injured and, in the worst case, even dying because of these accidents.\n",
        "\n",
        "Being able to predict severity of an accident based on some informations about it, before reaching the crash site, can improve how hospitals and police departments react to the situation. \n",
        "Factors like weather, vehicles involved in the accident and light condition, can indicate the probable severity of the crash, and then, hospitals can be better prepared to receive the injured people.\n",
        "Police and traffic deparments can use the same data to reinforce caution in traffic to minimize car accidents and their severity.\n",
        "This approach can help save a lot of money in government property and, most important, it can help save human lives."
      ]
    },
    {
      "cell_type": "markdown",
      "metadata": {
        "id": "Lnc7-Jo4oiOF",
        "colab_type": "text"
      },
      "source": [
        "## Bussines Problem\n",
        "This project's objective is to be able to predict the severity of the accidents based on information that can be obtained before any police officer or ambulance reach the crash site.\n",
        "By doing this, the people responsible in dealing with the situation can be better prepared to do so. "
      ]
    },
    {
      "cell_type": "markdown",
      "metadata": {
        "id": "5Sa5ghcjorCq",
        "colab_type": "text"
      },
      "source": [
        "## Data\n",
        "\n",
        "The dataset used for this project is the dataset \"Collisions—All Years\", provided by the Seattle Department of Transportation - Traffic Management Division.\n",
        "This dataset contains records of all types of collisions that happened since 2004 in the city of Seattle.\n",
        "\n",
        "This dataset contains 37 attributes and further information about it can be found at https://s3.us.cloud-object-storage.appdomain.cloud/cf-courses-data/CognitiveClass/DP0701EN/version-2/Metadata.pdf"
      ]
    },
    {
      "cell_type": "markdown",
      "metadata": {
        "id": "6tkFZi1tsSBy",
        "colab_type": "text"
      },
      "source": [
        "## Data Understanting\n",
        "\n",
        "### Adquiring the data and selecting the attributes that are going to be used in the analysis"
      ]
    },
    {
      "cell_type": "code",
      "metadata": {
        "id": "ek_II59Z24o7",
        "colab_type": "code",
        "colab": {
          "base_uri": "https://localhost:8080/",
          "height": 105
        },
        "outputId": "3719d4b2-5e9a-4ddd-c3dc-826e9bc9abdc"
      },
      "source": [
        "# Importing libraries\n",
        "import pandas as pd\n",
        "import numpy as np\n",
        "import sklearn\n",
        "import matplotlib.pyplot as plt\n",
        "import seaborn as sns\n",
        "\n",
        "# Downloading the dataset\n",
        "df_init = pd.read_csv('https://s3.us.cloud-object-storage.appdomain.cloud/cf-courses-data/CognitiveClass/DP0701EN/version-2/Data-Collisions.csv')"
      ],
      "execution_count": 1,
      "outputs": [
        {
          "output_type": "stream",
          "text": [
            "/usr/local/lib/python3.6/dist-packages/statsmodels/tools/_testing.py:19: FutureWarning: pandas.util.testing is deprecated. Use the functions in the public API at pandas.testing instead.\n",
            "  import pandas.util.testing as tm\n",
            "/usr/local/lib/python3.6/dist-packages/IPython/core/interactiveshell.py:2718: DtypeWarning: Columns (33) have mixed types.Specify dtype option on import or set low_memory=False.\n",
            "  interactivity=interactivity, compiler=compiler, result=result)\n"
          ],
          "name": "stderr"
        }
      ]
    },
    {
      "cell_type": "code",
      "metadata": {
        "id": "S2niqdnT3LIE",
        "colab_type": "code",
        "colab": {
          "base_uri": "https://localhost:8080/",
          "height": 782
        },
        "outputId": "85288302-827b-4d51-bd43-b392a43af633"
      },
      "source": [
        "# Information of the full dataset\n",
        "df_init.info()"
      ],
      "execution_count": 2,
      "outputs": [
        {
          "output_type": "stream",
          "text": [
            "<class 'pandas.core.frame.DataFrame'>\n",
            "RangeIndex: 194673 entries, 0 to 194672\n",
            "Data columns (total 38 columns):\n",
            " #   Column          Non-Null Count   Dtype  \n",
            "---  ------          --------------   -----  \n",
            " 0   SEVERITYCODE    194673 non-null  int64  \n",
            " 1   X               189339 non-null  float64\n",
            " 2   Y               189339 non-null  float64\n",
            " 3   OBJECTID        194673 non-null  int64  \n",
            " 4   INCKEY          194673 non-null  int64  \n",
            " 5   COLDETKEY       194673 non-null  int64  \n",
            " 6   REPORTNO        194673 non-null  object \n",
            " 7   STATUS          194673 non-null  object \n",
            " 8   ADDRTYPE        192747 non-null  object \n",
            " 9   INTKEY          65070 non-null   float64\n",
            " 10  LOCATION        191996 non-null  object \n",
            " 11  EXCEPTRSNCODE   84811 non-null   object \n",
            " 12  EXCEPTRSNDESC   5638 non-null    object \n",
            " 13  SEVERITYCODE.1  194673 non-null  int64  \n",
            " 14  SEVERITYDESC    194673 non-null  object \n",
            " 15  COLLISIONTYPE   189769 non-null  object \n",
            " 16  PERSONCOUNT     194673 non-null  int64  \n",
            " 17  PEDCOUNT        194673 non-null  int64  \n",
            " 18  PEDCYLCOUNT     194673 non-null  int64  \n",
            " 19  VEHCOUNT        194673 non-null  int64  \n",
            " 20  INCDATE         194673 non-null  object \n",
            " 21  INCDTTM         194673 non-null  object \n",
            " 22  JUNCTIONTYPE    188344 non-null  object \n",
            " 23  SDOT_COLCODE    194673 non-null  int64  \n",
            " 24  SDOT_COLDESC    194673 non-null  object \n",
            " 25  INATTENTIONIND  29805 non-null   object \n",
            " 26  UNDERINFL       189789 non-null  object \n",
            " 27  WEATHER         189592 non-null  object \n",
            " 28  ROADCOND        189661 non-null  object \n",
            " 29  LIGHTCOND       189503 non-null  object \n",
            " 30  PEDROWNOTGRNT   4667 non-null    object \n",
            " 31  SDOTCOLNUM      114936 non-null  float64\n",
            " 32  SPEEDING        9333 non-null    object \n",
            " 33  ST_COLCODE      194655 non-null  object \n",
            " 34  ST_COLDESC      189769 non-null  object \n",
            " 35  SEGLANEKEY      194673 non-null  int64  \n",
            " 36  CROSSWALKKEY    194673 non-null  int64  \n",
            " 37  HITPARKEDCAR    194673 non-null  object \n",
            "dtypes: float64(4), int64(12), object(22)\n",
            "memory usage: 56.4+ MB\n"
          ],
          "name": "stdout"
        }
      ]
    },
    {
      "cell_type": "markdown",
      "metadata": {
        "id": "59tA2dB-Y31l",
        "colab_type": "text"
      },
      "source": [
        "The dataset contains a lot of attributes that aggregate no real value to the classification. Id's and other attributes used only to identificate the accident can be discarted in the analysis.\n",
        "\n",
        "The attributes that will be used in the analysis are:\n",
        "\n",
        "\n",
        "*   COLLISIONTYPE - Type of the collision\n",
        "*   PERSONCOUNT - The total number of people involved in the collision\n",
        "*   VEHCOUNT - The total number of vehicles involved in the collision\n",
        "*   JUNCTIONTYPE - Category of junction at which collision took place\n",
        "*   WEATHER - A description of the weather conditions during the time of the collision\n",
        "*   ROADCOND - The condition of the road during the collision\n",
        "*   LIGHTCOND - The light conditions during the collision\n",
        "*   SPEEDING - Whether or not speeding was a factor in the collision\n",
        "\n",
        "The label (target) is: \n",
        "* SEVERITYCODE - A code that corresponds to the severity of the collision\n",
        "\n"
      ]
    },
    {
      "cell_type": "code",
      "metadata": {
        "id": "RGILHagk5Vg1",
        "colab_type": "code",
        "colab": {
          "base_uri": "https://localhost:8080/",
          "height": 204
        },
        "outputId": "8d121ff4-1db8-456b-c38b-08ec68ccc9c6"
      },
      "source": [
        "# Creating a dataframe with the attributes that are going to be used\n",
        "df = df_init[['COLLISIONTYPE', 'PERSONCOUNT', 'VEHCOUNT', 'JUNCTIONTYPE', 'WEATHER', 'ROADCOND', 'LIGHTCOND', 'SPEEDING','SEVERITYCODE']]\n",
        "df.head()"
      ],
      "execution_count": 3,
      "outputs": [
        {
          "output_type": "execute_result",
          "data": {
            "text/html": [
              "<div>\n",
              "<style scoped>\n",
              "    .dataframe tbody tr th:only-of-type {\n",
              "        vertical-align: middle;\n",
              "    }\n",
              "\n",
              "    .dataframe tbody tr th {\n",
              "        vertical-align: top;\n",
              "    }\n",
              "\n",
              "    .dataframe thead th {\n",
              "        text-align: right;\n",
              "    }\n",
              "</style>\n",
              "<table border=\"1\" class=\"dataframe\">\n",
              "  <thead>\n",
              "    <tr style=\"text-align: right;\">\n",
              "      <th></th>\n",
              "      <th>COLLISIONTYPE</th>\n",
              "      <th>PERSONCOUNT</th>\n",
              "      <th>VEHCOUNT</th>\n",
              "      <th>JUNCTIONTYPE</th>\n",
              "      <th>WEATHER</th>\n",
              "      <th>ROADCOND</th>\n",
              "      <th>LIGHTCOND</th>\n",
              "      <th>SPEEDING</th>\n",
              "      <th>SEVERITYCODE</th>\n",
              "    </tr>\n",
              "  </thead>\n",
              "  <tbody>\n",
              "    <tr>\n",
              "      <th>0</th>\n",
              "      <td>Angles</td>\n",
              "      <td>2</td>\n",
              "      <td>2</td>\n",
              "      <td>At Intersection (intersection related)</td>\n",
              "      <td>Overcast</td>\n",
              "      <td>Wet</td>\n",
              "      <td>Daylight</td>\n",
              "      <td>NaN</td>\n",
              "      <td>2</td>\n",
              "    </tr>\n",
              "    <tr>\n",
              "      <th>1</th>\n",
              "      <td>Sideswipe</td>\n",
              "      <td>2</td>\n",
              "      <td>2</td>\n",
              "      <td>Mid-Block (not related to intersection)</td>\n",
              "      <td>Raining</td>\n",
              "      <td>Wet</td>\n",
              "      <td>Dark - Street Lights On</td>\n",
              "      <td>NaN</td>\n",
              "      <td>1</td>\n",
              "    </tr>\n",
              "    <tr>\n",
              "      <th>2</th>\n",
              "      <td>Parked Car</td>\n",
              "      <td>4</td>\n",
              "      <td>3</td>\n",
              "      <td>Mid-Block (not related to intersection)</td>\n",
              "      <td>Overcast</td>\n",
              "      <td>Dry</td>\n",
              "      <td>Daylight</td>\n",
              "      <td>NaN</td>\n",
              "      <td>1</td>\n",
              "    </tr>\n",
              "    <tr>\n",
              "      <th>3</th>\n",
              "      <td>Other</td>\n",
              "      <td>3</td>\n",
              "      <td>3</td>\n",
              "      <td>Mid-Block (not related to intersection)</td>\n",
              "      <td>Clear</td>\n",
              "      <td>Dry</td>\n",
              "      <td>Daylight</td>\n",
              "      <td>NaN</td>\n",
              "      <td>1</td>\n",
              "    </tr>\n",
              "    <tr>\n",
              "      <th>4</th>\n",
              "      <td>Angles</td>\n",
              "      <td>2</td>\n",
              "      <td>2</td>\n",
              "      <td>At Intersection (intersection related)</td>\n",
              "      <td>Raining</td>\n",
              "      <td>Wet</td>\n",
              "      <td>Daylight</td>\n",
              "      <td>NaN</td>\n",
              "      <td>2</td>\n",
              "    </tr>\n",
              "  </tbody>\n",
              "</table>\n",
              "</div>"
            ],
            "text/plain": [
              "  COLLISIONTYPE  PERSONCOUNT  ...  SPEEDING SEVERITYCODE\n",
              "0        Angles            2  ...       NaN            2\n",
              "1     Sideswipe            2  ...       NaN            1\n",
              "2    Parked Car            4  ...       NaN            1\n",
              "3         Other            3  ...       NaN            1\n",
              "4        Angles            2  ...       NaN            2\n",
              "\n",
              "[5 rows x 9 columns]"
            ]
          },
          "metadata": {
            "tags": []
          },
          "execution_count": 3
        }
      ]
    },
    {
      "cell_type": "code",
      "metadata": {
        "id": "nurjsXNNCE2K",
        "colab_type": "code",
        "colab": {
          "base_uri": "https://localhost:8080/",
          "height": 289
        },
        "outputId": "06cf2dee-1ffb-4799-a02f-8cbcad8b69e4"
      },
      "source": [
        "# Printing the informations of the dataset\n",
        "df.info()"
      ],
      "execution_count": 4,
      "outputs": [
        {
          "output_type": "stream",
          "text": [
            "<class 'pandas.core.frame.DataFrame'>\n",
            "RangeIndex: 194673 entries, 0 to 194672\n",
            "Data columns (total 9 columns):\n",
            " #   Column         Non-Null Count   Dtype \n",
            "---  ------         --------------   ----- \n",
            " 0   COLLISIONTYPE  189769 non-null  object\n",
            " 1   PERSONCOUNT    194673 non-null  int64 \n",
            " 2   VEHCOUNT       194673 non-null  int64 \n",
            " 3   JUNCTIONTYPE   188344 non-null  object\n",
            " 4   WEATHER        189592 non-null  object\n",
            " 5   ROADCOND       189661 non-null  object\n",
            " 6   LIGHTCOND      189503 non-null  object\n",
            " 7   SPEEDING       9333 non-null    object\n",
            " 8   SEVERITYCODE   194673 non-null  int64 \n",
            "dtypes: int64(3), object(6)\n",
            "memory usage: 13.4+ MB\n"
          ],
          "name": "stdout"
        }
      ]
    },
    {
      "cell_type": "markdown",
      "metadata": {
        "id": "5s6ynOavrbdd",
        "colab_type": "text"
      },
      "source": [
        "## Data Preparation\n",
        "\n",
        "In this section, the dataset will suffer transformations to prepare the data do be used."
      ]
    },
    {
      "cell_type": "code",
      "metadata": {
        "id": "d-haukROqAhI",
        "colab_type": "code",
        "colab": {
          "base_uri": "https://localhost:8080/",
          "height": 187
        },
        "outputId": "92f9ee1a-c90c-4e59-8fc3-22b32b2cd325"
      },
      "source": [
        "# Checking for NaN values in the dataset\n",
        "df.isnull().sum()"
      ],
      "execution_count": 5,
      "outputs": [
        {
          "output_type": "execute_result",
          "data": {
            "text/plain": [
              "COLLISIONTYPE      4904\n",
              "PERSONCOUNT           0\n",
              "VEHCOUNT              0\n",
              "JUNCTIONTYPE       6329\n",
              "WEATHER            5081\n",
              "ROADCOND           5012\n",
              "LIGHTCOND          5170\n",
              "SPEEDING         185340\n",
              "SEVERITYCODE          0\n",
              "dtype: int64"
            ]
          },
          "metadata": {
            "tags": []
          },
          "execution_count": 5
        }
      ]
    },
    {
      "cell_type": "markdown",
      "metadata": {
        "id": "D1PYCvkZ-Sud",
        "colab_type": "text"
      },
      "source": [
        "There are some NaN values in the dataset. Since they represent a small percentage of the total of rows (194673) these register will be removed from the dataset.The exception is with the SPEEDING column, where the presence of NaN values will be replaced by 'N' (Not speeding)."
      ]
    },
    {
      "cell_type": "code",
      "metadata": {
        "id": "O6avQhKxuDlw",
        "colab_type": "code",
        "colab": {
          "base_uri": "https://localhost:8080/",
          "height": 187
        },
        "outputId": "542c16d8-e8ba-40d2-cd00-41401a8104cb"
      },
      "source": [
        "# Replacing the NaN values of the column SPEEDING with 'N'\n",
        "df['SPEEDING'].fillna('N', inplace = True)\n",
        "# Droping the rows that contain NaN values of the dataset\n",
        "df.dropna(inplace = True)"
      ],
      "execution_count": 7,
      "outputs": [
        {
          "output_type": "stream",
          "text": [
            "/usr/local/lib/python3.6/dist-packages/pandas/core/generic.py:6245: SettingWithCopyWarning: \n",
            "A value is trying to be set on a copy of a slice from a DataFrame\n",
            "\n",
            "See the caveats in the documentation: https://pandas.pydata.org/pandas-docs/stable/user_guide/indexing.html#returning-a-view-versus-a-copy\n",
            "  self._update_inplace(new_data)\n",
            "/usr/local/lib/python3.6/dist-packages/ipykernel_launcher.py:4: SettingWithCopyWarning: \n",
            "A value is trying to be set on a copy of a slice from a DataFrame\n",
            "\n",
            "See the caveats in the documentation: https://pandas.pydata.org/pandas-docs/stable/user_guide/indexing.html#returning-a-view-versus-a-copy\n",
            "  after removing the cwd from sys.path.\n"
          ],
          "name": "stderr"
        }
      ]
    },
    {
      "cell_type": "code",
      "metadata": {
        "id": "RUgCjBANu9ie",
        "colab_type": "code",
        "colab": {
          "base_uri": "https://localhost:8080/",
          "height": 289
        },
        "outputId": "50a062be-027d-4bd0-97ce-8646806e3009"
      },
      "source": [
        "df.info()"
      ],
      "execution_count": 8,
      "outputs": [
        {
          "output_type": "stream",
          "text": [
            "<class 'pandas.core.frame.DataFrame'>\n",
            "Int64Index: 183177 entries, 0 to 194672\n",
            "Data columns (total 9 columns):\n",
            " #   Column         Non-Null Count   Dtype \n",
            "---  ------         --------------   ----- \n",
            " 0   COLLISIONTYPE  183177 non-null  object\n",
            " 1   PERSONCOUNT    183177 non-null  int64 \n",
            " 2   VEHCOUNT       183177 non-null  int64 \n",
            " 3   JUNCTIONTYPE   183177 non-null  object\n",
            " 4   WEATHER        183177 non-null  object\n",
            " 5   ROADCOND       183177 non-null  object\n",
            " 6   LIGHTCOND      183177 non-null  object\n",
            " 7   SPEEDING       183177 non-null  object\n",
            " 8   SEVERITYCODE   183177 non-null  int64 \n",
            "dtypes: int64(3), object(6)\n",
            "memory usage: 14.0+ MB\n"
          ],
          "name": "stdout"
        }
      ]
    },
    {
      "cell_type": "markdown",
      "metadata": {
        "id": "AjbLnjAPCuXF",
        "colab_type": "text"
      },
      "source": [
        "Now we will substitute all the string values with numbers. \n",
        "\n",
        "COLLISIONTYPE"
      ]
    },
    {
      "cell_type": "code",
      "metadata": {
        "id": "BkcvZkbPtD5g",
        "colab_type": "code",
        "colab": {
          "base_uri": "https://localhost:8080/",
          "height": 204
        },
        "outputId": "05b0f586-3967-40a3-db7a-ea4f20e34c29"
      },
      "source": [
        "df['COLLISIONTYPE'].value_counts()"
      ],
      "execution_count": 9,
      "outputs": [
        {
          "output_type": "execute_result",
          "data": {
            "text/plain": [
              "Parked Car    43272\n",
              "Angles        34464\n",
              "Rear Ended    33683\n",
              "Other         22999\n",
              "Sideswipe     18312\n",
              "Left Turn     13641\n",
              "Pedestrian     6515\n",
              "Cycles         5365\n",
              "Right Turn     2930\n",
              "Head On        1996\n",
              "Name: COLLISIONTYPE, dtype: int64"
            ]
          },
          "metadata": {
            "tags": []
          },
          "execution_count": 9
        }
      ]
    },
    {
      "cell_type": "code",
      "metadata": {
        "id": "xOmhfPRUDOqM",
        "colab_type": "code",
        "colab": {
          "base_uri": "https://localhost:8080/",
          "height": 102
        },
        "outputId": "61cef08b-4eb9-4cee-9def-fd26ac731af5"
      },
      "source": [
        "# Replacing:\n",
        "# Parked Car -> 1\n",
        "df['COLLISIONTYPE'].replace({'Parked Car': 1}, inplace = True)\n",
        "# Angles -> 2\n",
        "df['COLLISIONTYPE'].replace({'Angles': 2}, inplace = True)\n",
        "# Rear Ended -> 3\n",
        "df['COLLISIONTYPE'].replace({'Rear Ended': 3}, inplace = True)\n",
        "# Other -> 4\n",
        "df['COLLISIONTYPE'].replace({'Other': 4}, inplace = True)\n",
        "# Sideswipe -> 5\n",
        "df['COLLISIONTYPE'].replace({'Sideswipe': 5}, inplace = True)\n",
        "# Left Turn -> 6\n",
        "df['COLLISIONTYPE'].replace({'Left Turn': 6}, inplace = True)\n",
        "# Pedestrian -> 7\n",
        "df['COLLISIONTYPE'].replace({'Pedestrian': 7}, inplace = True)\n",
        "# Cycles -> 8\n",
        "df['COLLISIONTYPE'].replace({'Cycles': 8}, inplace = True)\n",
        "# Right Turn -> 9\n",
        "df['COLLISIONTYPE'].replace({'Right Turn': 9}, inplace = True)\n",
        "# Head On -> 10\n",
        "df['COLLISIONTYPE'].replace({'Head On': 10}, inplace = True)"
      ],
      "execution_count": 10,
      "outputs": [
        {
          "output_type": "stream",
          "text": [
            "/usr/local/lib/python3.6/dist-packages/pandas/core/generic.py:6746: SettingWithCopyWarning: \n",
            "A value is trying to be set on a copy of a slice from a DataFrame\n",
            "\n",
            "See the caveats in the documentation: https://pandas.pydata.org/pandas-docs/stable/user_guide/indexing.html#returning-a-view-versus-a-copy\n",
            "  self._update_inplace(new_data)\n"
          ],
          "name": "stderr"
        }
      ]
    },
    {
      "cell_type": "markdown",
      "metadata": {
        "id": "EvurSK_LFAlO",
        "colab_type": "text"
      },
      "source": [
        "JUNCTIONTYPE"
      ]
    },
    {
      "cell_type": "code",
      "metadata": {
        "id": "Xf-RByxfFDpI",
        "colab_type": "code",
        "colab": {
          "base_uri": "https://localhost:8080/",
          "height": 153
        },
        "outputId": "1c95519c-b9c0-4529-8f34-975cd5a5f5df"
      },
      "source": [
        "df['JUNCTIONTYPE'].value_counts()"
      ],
      "execution_count": 11,
      "outputs": [
        {
          "output_type": "execute_result",
          "data": {
            "text/plain": [
              "Mid-Block (not related to intersection)              86852\n",
              "At Intersection (intersection related)               61226\n",
              "Mid-Block (but intersection related)                 22353\n",
              "Driveway Junction                                    10520\n",
              "At Intersection (but not related to intersection)     2057\n",
              "Ramp Junction                                          162\n",
              "Unknown                                                  7\n",
              "Name: JUNCTIONTYPE, dtype: int64"
            ]
          },
          "metadata": {
            "tags": []
          },
          "execution_count": 11
        }
      ]
    },
    {
      "cell_type": "code",
      "metadata": {
        "id": "vwV59xn8FNvV",
        "colab_type": "code",
        "colab": {
          "base_uri": "https://localhost:8080/",
          "height": 102
        },
        "outputId": "d4d8bddc-1743-432f-a6bd-4d722a6a374a"
      },
      "source": [
        "# Replacing:\n",
        "# Mid-Block (not related to intersection) -> 1\n",
        "df['JUNCTIONTYPE'].replace({'Mid-Block (not related to intersection)': 1}, inplace = True)\n",
        "# At Intersection (intersection related) -> 2\n",
        "df['JUNCTIONTYPE'].replace({'At Intersection (intersection related)': 2}, inplace = True)\n",
        "# Mid-Block (but intersection related) -> 3\n",
        "df['JUNCTIONTYPE'].replace({'Mid-Block (but intersection related)': 3}, inplace = True)\n",
        "# Driveway Junction -> 4\n",
        "df['JUNCTIONTYPE'].replace({'Driveway Junction': 4}, inplace = True)\n",
        "# At Intersection (but not related to intersection) -> 5\n",
        "df['JUNCTIONTYPE'].replace({'At Intersection (but not related to intersection)': 5}, inplace = True)\n",
        "# Ramp Junction -> 6\n",
        "df['JUNCTIONTYPE'].replace({'Ramp Junction': 6}, inplace = True)\n",
        "# Unknown -> 7\n",
        "df['JUNCTIONTYPE'].replace({'Unknown': 7}, inplace = True)"
      ],
      "execution_count": 12,
      "outputs": [
        {
          "output_type": "stream",
          "text": [
            "/usr/local/lib/python3.6/dist-packages/pandas/core/generic.py:6746: SettingWithCopyWarning: \n",
            "A value is trying to be set on a copy of a slice from a DataFrame\n",
            "\n",
            "See the caveats in the documentation: https://pandas.pydata.org/pandas-docs/stable/user_guide/indexing.html#returning-a-view-versus-a-copy\n",
            "  self._update_inplace(new_data)\n"
          ],
          "name": "stderr"
        }
      ]
    },
    {
      "cell_type": "markdown",
      "metadata": {
        "id": "LAGhjnbcFtvB",
        "colab_type": "text"
      },
      "source": [
        "WEATHER"
      ]
    },
    {
      "cell_type": "code",
      "metadata": {
        "id": "7VcBdXJnFt88",
        "colab_type": "code",
        "colab": {
          "base_uri": "https://localhost:8080/",
          "height": 221
        },
        "outputId": "61f4bac3-7a13-47b9-d9ee-f8e8fec834ca"
      },
      "source": [
        "df['WEATHER'].value_counts()"
      ],
      "execution_count": 13,
      "outputs": [
        {
          "output_type": "execute_result",
          "data": {
            "text/plain": [
              "Clear                       109157\n",
              "Raining                      32671\n",
              "Overcast                     27202\n",
              "Unknown                      11767\n",
              "Snowing                        882\n",
              "Other                          749\n",
              "Fog/Smog/Smoke                 558\n",
              "Sleet/Hail/Freezing Rain       112\n",
              "Blowing Sand/Dirt               49\n",
              "Severe Crosswind                25\n",
              "Partly Cloudy                    5\n",
              "Name: WEATHER, dtype: int64"
            ]
          },
          "metadata": {
            "tags": []
          },
          "execution_count": 13
        }
      ]
    },
    {
      "cell_type": "code",
      "metadata": {
        "id": "avJGyG6iF0Dj",
        "colab_type": "code",
        "colab": {
          "base_uri": "https://localhost:8080/",
          "height": 102
        },
        "outputId": "36af0258-bea9-4804-8b48-eb62490749a1"
      },
      "source": [
        "# Replacing:\n",
        "# Clear -> 1\n",
        "df['WEATHER'].replace({'Clear': 1}, inplace = True)\n",
        "# Raining -> 2\n",
        "df['WEATHER'].replace({'Raining': 2}, inplace = True)\n",
        "# Overcast -> 3\n",
        "df['WEATHER'].replace({'Overcast': 3}, inplace = True)\n",
        "# Unknown -> 4\n",
        "df['WEATHER'].replace({'Unknown': 4}, inplace = True)\n",
        "# Snowing -> 5\n",
        "df['WEATHER'].replace({'Snowing': 5}, inplace = True)\n",
        "# Other -> 6\n",
        "df['WEATHER'].replace({'Other': 6}, inplace = True)\n",
        "# Fog/Smog/Smoke -> 7\n",
        "df['WEATHER'].replace({'Fog/Smog/Smoke': 7}, inplace = True)\n",
        "# Sleet/Hail/Freezing Rain -> 8\n",
        "df['WEATHER'].replace({'Sleet/Hail/Freezing Rain': 8}, inplace = True)\n",
        "# Blowing Sand/Dirt -> 9\n",
        "df['WEATHER'].replace({'Blowing Sand/Dirt': 9}, inplace = True)\n",
        "# Severe Crosswind -> 10\n",
        "df['WEATHER'].replace({'Severe Crosswind': 10}, inplace = True)\n",
        "# Partly Cloudy -> 11\n",
        "df['WEATHER'].replace({'Partly Cloudy': 11}, inplace = True)\n"
      ],
      "execution_count": 14,
      "outputs": [
        {
          "output_type": "stream",
          "text": [
            "/usr/local/lib/python3.6/dist-packages/pandas/core/generic.py:6746: SettingWithCopyWarning: \n",
            "A value is trying to be set on a copy of a slice from a DataFrame\n",
            "\n",
            "See the caveats in the documentation: https://pandas.pydata.org/pandas-docs/stable/user_guide/indexing.html#returning-a-view-versus-a-copy\n",
            "  self._update_inplace(new_data)\n"
          ],
          "name": "stderr"
        }
      ]
    },
    {
      "cell_type": "markdown",
      "metadata": {
        "id": "n1dNq-yUGaVP",
        "colab_type": "text"
      },
      "source": [
        "ROADCOND"
      ]
    },
    {
      "cell_type": "code",
      "metadata": {
        "id": "AlUBX8vuGapf",
        "colab_type": "code",
        "colab": {
          "base_uri": "https://localhost:8080/",
          "height": 187
        },
        "outputId": "99a5c103-ac14-4128-891e-2c2664e3ed9f"
      },
      "source": [
        "df['ROADCOND'].value_counts()"
      ],
      "execution_count": 15,
      "outputs": [
        {
          "output_type": "execute_result",
          "data": {
            "text/plain": [
              "Dry               122260\n",
              "Wet                46748\n",
              "Unknown            11652\n",
              "Ice                 1178\n",
              "Snow/Slush           980\n",
              "Other                123\n",
              "Standing Water       109\n",
              "Sand/Mud/Dirt         67\n",
              "Oil                   60\n",
              "Name: ROADCOND, dtype: int64"
            ]
          },
          "metadata": {
            "tags": []
          },
          "execution_count": 15
        }
      ]
    },
    {
      "cell_type": "code",
      "metadata": {
        "id": "iyvs3T47GazE",
        "colab_type": "code",
        "colab": {
          "base_uri": "https://localhost:8080/",
          "height": 102
        },
        "outputId": "581a6c6d-c325-4a8d-fa42-f0a91bac87af"
      },
      "source": [
        "# Replacing:\n",
        "# Dry -> 1\n",
        "df['ROADCOND'].replace({'Dry': 1}, inplace = True)\n",
        "# Wet -> 2\n",
        "df['ROADCOND'].replace({'Wet': 2}, inplace = True)\n",
        "# Unknown -> 3\n",
        "df['ROADCOND'].replace({'Unknown': 3}, inplace = True)\n",
        "# Ice -> 4\n",
        "df['ROADCOND'].replace({'Ice': 4}, inplace = True)\n",
        "# Snow/Slush -> 5\n",
        "df['ROADCOND'].replace({'Snow/Slush': 5}, inplace = True)\n",
        "# Other -> 6\n",
        "df['ROADCOND'].replace({'Other': 6}, inplace = True)\n",
        "# Standing Water -> 7\n",
        "df['ROADCOND'].replace({'Standing Water': 7}, inplace = True)\n",
        "# Sand/Mud/Dirt -> 8\n",
        "df['ROADCOND'].replace({'Sand/Mud/Dirt': 8}, inplace = True)\n",
        "# Oil -> 9\n",
        "df['ROADCOND'].replace({'Oil': 9}, inplace = True)"
      ],
      "execution_count": 16,
      "outputs": [
        {
          "output_type": "stream",
          "text": [
            "/usr/local/lib/python3.6/dist-packages/pandas/core/generic.py:6746: SettingWithCopyWarning: \n",
            "A value is trying to be set on a copy of a slice from a DataFrame\n",
            "\n",
            "See the caveats in the documentation: https://pandas.pydata.org/pandas-docs/stable/user_guide/indexing.html#returning-a-view-versus-a-copy\n",
            "  self._update_inplace(new_data)\n"
          ],
          "name": "stderr"
        }
      ]
    },
    {
      "cell_type": "markdown",
      "metadata": {
        "id": "MwgqttDNG3qa",
        "colab_type": "text"
      },
      "source": [
        "LIGHTCOND"
      ]
    },
    {
      "cell_type": "code",
      "metadata": {
        "id": "siPWIS_lG31z",
        "colab_type": "code",
        "colab": {
          "base_uri": "https://localhost:8080/",
          "height": 187
        },
        "outputId": "93bee9ce-0107-442c-b6fc-54836d4e5064"
      },
      "source": [
        "df['LIGHTCOND'].value_counts()"
      ],
      "execution_count": 17,
      "outputs": [
        {
          "output_type": "execute_result",
          "data": {
            "text/plain": [
              "Daylight                    113959\n",
              "Dark - Street Lights On      47590\n",
              "Unknown                      10553\n",
              "Dusk                          5780\n",
              "Dawn                          2453\n",
              "Dark - No Street Lights       1462\n",
              "Dark - Street Lights Off      1158\n",
              "Other                          211\n",
              "Dark - Unknown Lighting         11\n",
              "Name: LIGHTCOND, dtype: int64"
            ]
          },
          "metadata": {
            "tags": []
          },
          "execution_count": 17
        }
      ]
    },
    {
      "cell_type": "code",
      "metadata": {
        "id": "rEWGwFuLG4Ad",
        "colab_type": "code",
        "colab": {
          "base_uri": "https://localhost:8080/",
          "height": 102
        },
        "outputId": "e227c36b-47fc-4980-d9a8-b162d5a176da"
      },
      "source": [
        "# Replacing:\n",
        "# Daylight -> 1\n",
        "df['LIGHTCOND'].replace({'Daylight': 1}, inplace = True)\n",
        "# Dark - Street Lights On -> 2\n",
        "df['LIGHTCOND'].replace({'Dark - Street Lights On': 2}, inplace = True)\n",
        "# Unknown -> 3\n",
        "df['LIGHTCOND'].replace({'Unknown': 3}, inplace = True)\n",
        "# Dusk -> 4\n",
        "df['LIGHTCOND'].replace({'Dusk': 4}, inplace = True)\n",
        "# Dawn -> 5\n",
        "df['LIGHTCOND'].replace({'Dawn': 5}, inplace = True)\n",
        "# Other -> 6\n",
        "df['LIGHTCOND'].replace({'Other': 6}, inplace = True)\n",
        "# Dark - No Street Lights -> 7\n",
        "df['LIGHTCOND'].replace({'Dark - No Street Lights': 7}, inplace = True)\n",
        "# Dark - Street Lights Off -> 8\n",
        "df['LIGHTCOND'].replace({'Dark - Street Lights Off': 8}, inplace = True)\n",
        "# Dark - Unknown Lighting -> 9\n",
        "df['LIGHTCOND'].replace({'Dark - Unknown Lighting': 9}, inplace = True)"
      ],
      "execution_count": 18,
      "outputs": [
        {
          "output_type": "stream",
          "text": [
            "/usr/local/lib/python3.6/dist-packages/pandas/core/generic.py:6746: SettingWithCopyWarning: \n",
            "A value is trying to be set on a copy of a slice from a DataFrame\n",
            "\n",
            "See the caveats in the documentation: https://pandas.pydata.org/pandas-docs/stable/user_guide/indexing.html#returning-a-view-versus-a-copy\n",
            "  self._update_inplace(new_data)\n"
          ],
          "name": "stderr"
        }
      ]
    },
    {
      "cell_type": "markdown",
      "metadata": {
        "id": "ySln_rKxHST_",
        "colab_type": "text"
      },
      "source": [
        "SPEEDING"
      ]
    },
    {
      "cell_type": "code",
      "metadata": {
        "id": "JoENydQsHSip",
        "colab_type": "code",
        "colab": {
          "base_uri": "https://localhost:8080/",
          "height": 68
        },
        "outputId": "40144d6b-4e6f-4c72-c0f1-92ad00a76419"
      },
      "source": [
        "df['SPEEDING'].value_counts()"
      ],
      "execution_count": 19,
      "outputs": [
        {
          "output_type": "execute_result",
          "data": {
            "text/plain": [
              "N    173968\n",
              "Y      9209\n",
              "Name: SPEEDING, dtype: int64"
            ]
          },
          "metadata": {
            "tags": []
          },
          "execution_count": 19
        }
      ]
    },
    {
      "cell_type": "code",
      "metadata": {
        "id": "FG5-1mNkHS3H",
        "colab_type": "code",
        "colab": {
          "base_uri": "https://localhost:8080/",
          "height": 102
        },
        "outputId": "e9dac8d2-1d3c-41db-ffcd-200c80d81c15"
      },
      "source": [
        "# Replacing:\n",
        "# N -> 1\n",
        "df['SPEEDING'].replace({'N': 1}, inplace = True)\n",
        "# Y -> 2\n",
        "df['SPEEDING'].replace({'Y': 2}, inplace = True)"
      ],
      "execution_count": 20,
      "outputs": [
        {
          "output_type": "stream",
          "text": [
            "/usr/local/lib/python3.6/dist-packages/pandas/core/generic.py:6746: SettingWithCopyWarning: \n",
            "A value is trying to be set on a copy of a slice from a DataFrame\n",
            "\n",
            "See the caveats in the documentation: https://pandas.pydata.org/pandas-docs/stable/user_guide/indexing.html#returning-a-view-versus-a-copy\n",
            "  self._update_inplace(new_data)\n"
          ],
          "name": "stderr"
        }
      ]
    },
    {
      "cell_type": "markdown",
      "metadata": {
        "id": "lDddNoYExqhc",
        "colab_type": "text"
      },
      "source": [
        "The dataset after the transformation contains 0 NaN values, and 183177 rows and no string types"
      ]
    },
    {
      "cell_type": "code",
      "metadata": {
        "id": "_NSWo8nKD8aj",
        "colab_type": "code",
        "colab": {
          "base_uri": "https://localhost:8080/",
          "height": 204
        },
        "outputId": "f0a95bb0-beed-4568-df03-5df22e01ec92"
      },
      "source": [
        "# The final dataset is as follow\n",
        "df.head()"
      ],
      "execution_count": 21,
      "outputs": [
        {
          "output_type": "execute_result",
          "data": {
            "text/html": [
              "<div>\n",
              "<style scoped>\n",
              "    .dataframe tbody tr th:only-of-type {\n",
              "        vertical-align: middle;\n",
              "    }\n",
              "\n",
              "    .dataframe tbody tr th {\n",
              "        vertical-align: top;\n",
              "    }\n",
              "\n",
              "    .dataframe thead th {\n",
              "        text-align: right;\n",
              "    }\n",
              "</style>\n",
              "<table border=\"1\" class=\"dataframe\">\n",
              "  <thead>\n",
              "    <tr style=\"text-align: right;\">\n",
              "      <th></th>\n",
              "      <th>COLLISIONTYPE</th>\n",
              "      <th>PERSONCOUNT</th>\n",
              "      <th>VEHCOUNT</th>\n",
              "      <th>JUNCTIONTYPE</th>\n",
              "      <th>WEATHER</th>\n",
              "      <th>ROADCOND</th>\n",
              "      <th>LIGHTCOND</th>\n",
              "      <th>SPEEDING</th>\n",
              "      <th>SEVERITYCODE</th>\n",
              "    </tr>\n",
              "  </thead>\n",
              "  <tbody>\n",
              "    <tr>\n",
              "      <th>0</th>\n",
              "      <td>2</td>\n",
              "      <td>2</td>\n",
              "      <td>2</td>\n",
              "      <td>2</td>\n",
              "      <td>3</td>\n",
              "      <td>2</td>\n",
              "      <td>1</td>\n",
              "      <td>1</td>\n",
              "      <td>2</td>\n",
              "    </tr>\n",
              "    <tr>\n",
              "      <th>1</th>\n",
              "      <td>5</td>\n",
              "      <td>2</td>\n",
              "      <td>2</td>\n",
              "      <td>1</td>\n",
              "      <td>2</td>\n",
              "      <td>2</td>\n",
              "      <td>2</td>\n",
              "      <td>1</td>\n",
              "      <td>1</td>\n",
              "    </tr>\n",
              "    <tr>\n",
              "      <th>2</th>\n",
              "      <td>1</td>\n",
              "      <td>4</td>\n",
              "      <td>3</td>\n",
              "      <td>1</td>\n",
              "      <td>3</td>\n",
              "      <td>1</td>\n",
              "      <td>1</td>\n",
              "      <td>1</td>\n",
              "      <td>1</td>\n",
              "    </tr>\n",
              "    <tr>\n",
              "      <th>3</th>\n",
              "      <td>4</td>\n",
              "      <td>3</td>\n",
              "      <td>3</td>\n",
              "      <td>1</td>\n",
              "      <td>1</td>\n",
              "      <td>1</td>\n",
              "      <td>1</td>\n",
              "      <td>1</td>\n",
              "      <td>1</td>\n",
              "    </tr>\n",
              "    <tr>\n",
              "      <th>4</th>\n",
              "      <td>2</td>\n",
              "      <td>2</td>\n",
              "      <td>2</td>\n",
              "      <td>2</td>\n",
              "      <td>2</td>\n",
              "      <td>2</td>\n",
              "      <td>1</td>\n",
              "      <td>1</td>\n",
              "      <td>2</td>\n",
              "    </tr>\n",
              "  </tbody>\n",
              "</table>\n",
              "</div>"
            ],
            "text/plain": [
              "   COLLISIONTYPE  PERSONCOUNT  VEHCOUNT  ...  LIGHTCOND  SPEEDING  SEVERITYCODE\n",
              "0              2            2         2  ...          1         1             2\n",
              "1              5            2         2  ...          2         1             1\n",
              "2              1            4         3  ...          1         1             1\n",
              "3              4            3         3  ...          1         1             1\n",
              "4              2            2         2  ...          1         1             2\n",
              "\n",
              "[5 rows x 9 columns]"
            ]
          },
          "metadata": {
            "tags": []
          },
          "execution_count": 21
        }
      ]
    },
    {
      "cell_type": "markdown",
      "metadata": {
        "id": "cDtEoZtpIm2k",
        "colab_type": "text"
      },
      "source": [
        "Separating labels from attributes"
      ]
    },
    {
      "cell_type": "code",
      "metadata": {
        "id": "bKo4Qbc9Il00",
        "colab_type": "code",
        "colab": {
          "base_uri": "https://localhost:8080/",
          "height": 34
        },
        "outputId": "62ae619a-9f67-4bec-e229-effe6126c748"
      },
      "source": [
        "# X: atributes\n",
        "# Y: labels\n",
        "Y = df['SEVERITYCODE'].values\n",
        "Y.shape"
      ],
      "execution_count": 22,
      "outputs": [
        {
          "output_type": "execute_result",
          "data": {
            "text/plain": [
              "(183177,)"
            ]
          },
          "metadata": {
            "tags": []
          },
          "execution_count": 22
        }
      ]
    },
    {
      "cell_type": "code",
      "metadata": {
        "id": "bn7onFgSIwd-",
        "colab_type": "code",
        "colab": {
          "base_uri": "https://localhost:8080/",
          "height": 34
        },
        "outputId": "371e7d59-3901-4e55-990b-af4b124aaf13"
      },
      "source": [
        "X = df.drop(columns=['SEVERITYCODE'])\n",
        "X.shape"
      ],
      "execution_count": 23,
      "outputs": [
        {
          "output_type": "execute_result",
          "data": {
            "text/plain": [
              "(183177, 8)"
            ]
          },
          "metadata": {
            "tags": []
          },
          "execution_count": 23
        }
      ]
    },
    {
      "cell_type": "markdown",
      "metadata": {
        "id": "e-esY8E_J90o",
        "colab_type": "text"
      },
      "source": [
        "## Metodology\n",
        "First, the best model needs to be selected. The following algorithms will be tested with the complete dataset (df):\n",
        "* K Nearest Neighbor(KNN)\n",
        "* Decision Tree\n",
        "* Support Vector Machine\n",
        "* Logistic Regression\n",
        "\n",
        "\n",
        "The accuracy of each model will be used to evaluate the best amongs them."
      ]
    },
    {
      "cell_type": "code",
      "metadata": {
        "id": "FPZcWn5EPBWA",
        "colab_type": "code",
        "colab": {}
      },
      "source": [
        "# Separating the attributes\n",
        "X_col = X['COLLISIONTYPE'].values\n",
        "X_per = X['PERSONCOUNT'].values\n",
        "X_veh = X['VEHCOUNT'].values\n",
        "X_jun = X['JUNCTIONTYPE'].values\n",
        "X_wea = X['WEATHER'].values\n",
        "X_roa = X['ROADCOND'].values\n",
        "X_lig = X['LIGHTCOND'].values\n",
        "X_spe = X['SPEEDING'].values"
      ],
      "execution_count": 24,
      "outputs": []
    },
    {
      "cell_type": "markdown",
      "metadata": {
        "id": "d4d0Zk3XdyCi",
        "colab_type": "text"
      },
      "source": [
        "It is known that the dataset is unbalanced (there are more samples of a class)"
      ]
    },
    {
      "cell_type": "code",
      "metadata": {
        "id": "2vra-0E2DLrX",
        "colab_type": "code",
        "colab": {
          "base_uri": "https://localhost:8080/",
          "height": 68
        },
        "outputId": "04a623d2-91b6-40ab-ce74-b9e9fe134afd"
      },
      "source": [
        "# Printing the informations of the label\n",
        "df['SEVERITYCODE'].value_counts()"
      ],
      "execution_count": 26,
      "outputs": [
        {
          "output_type": "execute_result",
          "data": {
            "text/plain": [
              "1    126521\n",
              "2     56656\n",
              "Name: SEVERITYCODE, dtype: int64"
            ]
          },
          "metadata": {
            "tags": []
          },
          "execution_count": 26
        }
      ]
    },
    {
      "cell_type": "markdown",
      "metadata": {
        "id": "SicyBGqid8uD",
        "colab_type": "text"
      },
      "source": [
        "To fix this, the K-Fold Cross Validation technique will be used, with the value of K = 10. The accuracy used will be the mean of the different accuracies calculated for each fold"
      ]
    },
    {
      "cell_type": "markdown",
      "metadata": {
        "id": "o5X8PmTFtc4o",
        "colab_type": "text"
      },
      "source": [
        "## Modeling\n",
        "\n",
        "In this section, different models are going to be tested, and the best one will be selected (using all the attributes)"
      ]
    },
    {
      "cell_type": "markdown",
      "metadata": {
        "id": "YYE47rLk2D1Q",
        "colab_type": "text"
      },
      "source": [
        "### Finding the best classifier"
      ]
    },
    {
      "cell_type": "code",
      "metadata": {
        "id": "Bhh68keTlqfx",
        "colab_type": "code",
        "colab": {}
      },
      "source": [
        "from sklearn.model_selection import KFold\n",
        "from sklearn.neighbors import KNeighborsClassifier\n",
        "from sklearn.tree import DecisionTreeClassifier\n",
        "from sklearn import svm\n",
        "from sklearn.metrics import accuracy_score\n",
        "from sklearn.linear_model import LogisticRegression\n",
        "\n",
        "# Normalizing the data using Data Standardization\n",
        "X = preprocessing.StandardScaler().fit(X).transform(X)\n",
        "\n",
        "# List of scores (K-Fold)\n",
        "scores_knn = []\n",
        "scores_tree = []\n",
        "scores_svm = []\n",
        "scores_log = []\n",
        "\n",
        "# Creating the models\n",
        "knn_clf = KNeighborsClassifier(n_neighbors = 5)\n",
        "tree_clf = DecisionTreeClassifier() \n",
        "svm_clf = svm.SVC(gamma='auto')\n",
        "log_clf = LogisticRegression(random_state=0,solver='lbfgs')\n",
        "\n",
        "# Using the K-Fold Cross Validation\n",
        "cv = KFold(n_splits=5, random_state=1, shuffle=True)\n",
        "for train_index, test_index in cv.split(X):\n",
        "    X_train, X_test, y_train, y_test = X[train_index], X[test_index], Y[train_index], Y[test_index]\n",
        "\n",
        "    # Training the models\n",
        "    knn_clf.fit(X_train, y_train) \n",
        "    tree_clf.fit(X_train, y_train)\n",
        "    svm_clf.fit(X_train, y_train)\n",
        "    log_clf.fit(X_train, y_train)\n",
        "\n",
        "    # Making the predictions and calculating the accuracies\n",
        "    y_pred_knn = knn_clf.predict(X_test)\n",
        "    scores_knn.append(accuracy_score(y_test, y_pred_knn))\n",
        "\n",
        "    y_pred_tree = tree_clf.predict(X_test)\n",
        "    scores_tree.append(accuracy_score(y_test, y_pred_tree))\n",
        "\n",
        "    y_pred_svm = svm_clf.predict(X_test)\n",
        "    scores_svm.append(accuracy_score(y_test, y_pred_svm))\n",
        "\n",
        "    y_pred_log = log_clf.predict(X_test)\n",
        "    scores_log.append(accuracy_score(y_test, y_pred_log))"
      ],
      "execution_count": 27,
      "outputs": []
    },
    {
      "cell_type": "code",
      "metadata": {
        "id": "WsAgXwjjpjn-",
        "colab_type": "code",
        "colab": {
          "base_uri": "https://localhost:8080/",
          "height": 241
        },
        "outputId": "0aab50fc-fcd1-44f9-bfe0-34372ce8bd47"
      },
      "source": [
        "# Calculating the mean of the accuracies\n",
        "import statistics as st\n",
        "knn_acc = st.mean(scores_knn)\n",
        "tree_acc = st.mean(scores_tree)\n",
        "svm_acc = st.mean(scores_svm)\n",
        "log_acc = st.mean(scores_log)\n",
        "acc = [knn_acc, tree_acc, svm_acc, log_acc]\n",
        "\n",
        "print(f'Accuracy for the KNN: {knn_acc}')\n",
        "print(f'Accuracy for the Decision Tree: {tree_acc}')\n",
        "print(f'Accuracy for the SVM: {svm_acc}')\n",
        "print(f'Accuracy for the Logistic Regression: {log_acc}')\n",
        "\n",
        "report = pd.DataFrame(data = acc, index=['KNN','Decision Tree','SVM','Logistic Regression'])\n",
        "report.columns = ['Accuracy']\n",
        "report"
      ],
      "execution_count": 40,
      "outputs": [
        {
          "output_type": "stream",
          "text": [
            "Accuracy for the KNN: 0.7196864300501432\n",
            "Accuracy for the Decision Tree: 0.7413867377914282\n",
            "Accuracy for the SVM: 0.7477030450009137\n",
            "Accuracy for the Logistic Regression: 0.7170277917564901\n"
          ],
          "name": "stdout"
        },
        {
          "output_type": "execute_result",
          "data": {
            "text/html": [
              "<div>\n",
              "<style scoped>\n",
              "    .dataframe tbody tr th:only-of-type {\n",
              "        vertical-align: middle;\n",
              "    }\n",
              "\n",
              "    .dataframe tbody tr th {\n",
              "        vertical-align: top;\n",
              "    }\n",
              "\n",
              "    .dataframe thead th {\n",
              "        text-align: right;\n",
              "    }\n",
              "</style>\n",
              "<table border=\"1\" class=\"dataframe\">\n",
              "  <thead>\n",
              "    <tr style=\"text-align: right;\">\n",
              "      <th></th>\n",
              "      <th>Accuracy</th>\n",
              "    </tr>\n",
              "  </thead>\n",
              "  <tbody>\n",
              "    <tr>\n",
              "      <th>KNN</th>\n",
              "      <td>0.719686</td>\n",
              "    </tr>\n",
              "    <tr>\n",
              "      <th>Decision Tree</th>\n",
              "      <td>0.741387</td>\n",
              "    </tr>\n",
              "    <tr>\n",
              "      <th>SVM</th>\n",
              "      <td>0.747703</td>\n",
              "    </tr>\n",
              "    <tr>\n",
              "      <th>Logistic Regression</th>\n",
              "      <td>0.717028</td>\n",
              "    </tr>\n",
              "  </tbody>\n",
              "</table>\n",
              "</div>"
            ],
            "text/plain": [
              "                     Accuracy\n",
              "KNN                  0.719686\n",
              "Decision Tree        0.741387\n",
              "SVM                  0.747703\n",
              "Logistic Regression  0.717028"
            ]
          },
          "metadata": {
            "tags": []
          },
          "execution_count": 40
        }
      ]
    },
    {
      "cell_type": "markdown",
      "metadata": {
        "id": "KccgR2Vx5Hsm",
        "colab_type": "text"
      },
      "source": [
        "From the table above, the best classifier was the SVM\n"
      ]
    },
    {
      "cell_type": "markdown",
      "metadata": {
        "id": "gZTmIH9g6OlP",
        "colab_type": "text"
      },
      "source": [
        "## Results\n",
        "The results obtained in this project are shown next."
      ]
    },
    {
      "cell_type": "code",
      "metadata": {
        "id": "_zRiW8II8q_G",
        "colab_type": "code",
        "colab": {
          "base_uri": "https://localhost:8080/",
          "height": 173
        },
        "outputId": "ff019f80-181f-4a5f-8bb1-4069ebe5afd9"
      },
      "source": [
        "report = pd.DataFrame(data = acc, index=['KNN','Decision Tree','SVM','Logistic Regression'])\n",
        "report.columns = ['Accuracy']\n",
        "report"
      ],
      "execution_count": 41,
      "outputs": [
        {
          "output_type": "execute_result",
          "data": {
            "text/html": [
              "<div>\n",
              "<style scoped>\n",
              "    .dataframe tbody tr th:only-of-type {\n",
              "        vertical-align: middle;\n",
              "    }\n",
              "\n",
              "    .dataframe tbody tr th {\n",
              "        vertical-align: top;\n",
              "    }\n",
              "\n",
              "    .dataframe thead th {\n",
              "        text-align: right;\n",
              "    }\n",
              "</style>\n",
              "<table border=\"1\" class=\"dataframe\">\n",
              "  <thead>\n",
              "    <tr style=\"text-align: right;\">\n",
              "      <th></th>\n",
              "      <th>Accuracy</th>\n",
              "    </tr>\n",
              "  </thead>\n",
              "  <tbody>\n",
              "    <tr>\n",
              "      <th>KNN</th>\n",
              "      <td>0.719686</td>\n",
              "    </tr>\n",
              "    <tr>\n",
              "      <th>Decision Tree</th>\n",
              "      <td>0.741387</td>\n",
              "    </tr>\n",
              "    <tr>\n",
              "      <th>SVM</th>\n",
              "      <td>0.747703</td>\n",
              "    </tr>\n",
              "    <tr>\n",
              "      <th>Logistic Regression</th>\n",
              "      <td>0.717028</td>\n",
              "    </tr>\n",
              "  </tbody>\n",
              "</table>\n",
              "</div>"
            ],
            "text/plain": [
              "                     Accuracy\n",
              "KNN                  0.719686\n",
              "Decision Tree        0.741387\n",
              "SVM                  0.747703\n",
              "Logistic Regression  0.717028"
            ]
          },
          "metadata": {
            "tags": []
          },
          "execution_count": 41
        }
      ]
    },
    {
      "cell_type": "markdown",
      "metadata": {
        "id": "HXnk_NgvpAgH",
        "colab_type": "text"
      },
      "source": [
        "## Conclusion\n",
        "In this project, a dataset of accidents in the city of Seattle was used to predict the severety of an accident based on some characteristics of the accident.\n",
        "\n",
        "* The data was treated to optmize the performance of the models created; \n",
        "* Four different types of models were tested to see which was better;\n",
        "\n",
        "Based on the results, its safe to say that the best classifier was the SVM, who achieved the highest accuracy (74,77%). "
      ]
    },
    {
      "cell_type": "markdown",
      "metadata": {
        "id": "eGOQCW5VkUnM",
        "colab_type": "text"
      },
      "source": [
        "## Next Steps \n",
        "Further analysis can be made to find out if using the attributes separately, or in different combinations can improve the results obtained."
      ]
    }
  ]
}